{
 "cells": [
  {
   "cell_type": "markdown",
   "metadata": {
    "deletable": true,
    "editable": true
   },
   "source": [
    "# Image Classification using Deep Learning with SVM\n",
    "\n",
    "### Udacity Machine Learning Engineer Nanodegree - Capstone Porject\n",
    "### Student: Pavlos Sakoglou\n",
    "\n",
    "### Benchmark and Initial Model Architecture Test and Refinement\n",
    "\n",
    "========================================================================================="
   ]
  },
  {
   "cell_type": "markdown",
   "metadata": {
    "deletable": true,
    "editable": true
   },
   "source": [
    "As mentioned in the report file, the we expect the benchmark model to behave almost randomly, assigning 50% probability to each new input for being in either class. Below, we attempt to use an arbitrary architecture as a starting point for building and deriving an optimal model. This arbitrary model will be defined and trained regularly, and perhaps it will work better than completely at random. However, the results we will obtain only serve as a starting point for our investigation of the final models. "
   ]
  },
  {
   "cell_type": "markdown",
   "metadata": {
    "deletable": true,
    "editable": true
   },
   "source": [
    "## 1. Import data and print data statistics"
   ]
  },
  {
   "cell_type": "code",
   "execution_count": 1,
   "metadata": {
    "collapsed": false,
    "deletable": true,
    "editable": true
   },
   "outputs": [
    {
     "name": "stderr",
     "output_type": "stream",
     "text": [
      "Using TensorFlow backend.\n"
     ]
    },
    {
     "name": "stdout",
     "output_type": "stream",
     "text": [
      "There are 2 total classes:\n",
      "nude safe \n",
      "\n",
      "There are 13606 total images\n",
      "\n",
      "There are 12302 training images\n",
      "There are 467 validation images\n",
      "There are 837 test images\n"
     ]
    }
   ],
   "source": [
    "from sklearn.datasets import load_files      \n",
    "from keras.utils import np_utils\n",
    "from glob import glob\n",
    "import numpy as np\n",
    "import os\n",
    "\n",
    "# define function to load train, test, and validation datasets\n",
    "def load_dataset(path):\n",
    "    data = load_files(path)\n",
    "    files = np.array(data['filenames'])\n",
    "    file_classes = np_utils.to_categorical(np.array(data['target']))\n",
    "    return files, file_classes\n",
    "\n",
    "# load train, test, and validation datasets\n",
    "train_files, train_targets = load_dataset('data/train')\n",
    "valid_files, valid_targets = load_dataset('data/valid')\n",
    "test_files, test_targets = load_dataset('data/test')\n",
    "\n",
    "# load list of class names\n",
    "class_names = os.listdir(\"data/train\")\n",
    "\n",
    "# print statistics about the dataset\n",
    "print('There are %d total classes:' % len(class_names))\n",
    "print(class_names[0], class_names[1], \"\\n\")\n",
    "print('There are %s total images\\n' % len(np.hstack([train_files, valid_files, test_files])))\n",
    "print('There are %d training images' % len(train_files))\n",
    "print('There are %d validation images' % len(valid_files))\n",
    "print('There are %d test images'% len(test_files))"
   ]
  },
  {
   "cell_type": "markdown",
   "metadata": {
    "deletable": true,
    "editable": true
   },
   "source": [
    "## Convert the data into 244x244 dimensions of RGB values"
   ]
  },
  {
   "cell_type": "code",
   "execution_count": 2,
   "metadata": {
    "collapsed": false,
    "deletable": true,
    "editable": true
   },
   "outputs": [
    {
     "name": "stderr",
     "output_type": "stream",
     "text": [
      "100%|████████████████████████████████████| 12302/12302 [02:35<00:00, 79.17it/s]\n",
      "100%|████████████████████████████████████████| 467/467 [00:19<00:00, 24.06it/s]\n",
      "100%|████████████████████████████████████████| 837/837 [01:10<00:00, 11.89it/s]\n"
     ]
    },
    {
     "name": "stdout",
     "output_type": "stream",
     "text": [
      "Data are preprocessed!\n"
     ]
    }
   ],
   "source": [
    "from keras.preprocessing import image                  \n",
    "from tqdm import tqdm\n",
    "from PIL import ImageFile                            \n",
    "ImageFile.LOAD_TRUNCATED_IMAGES = True \n",
    "\n",
    "### Helper functions\n",
    "\n",
    "def path_to_tensor(img_path):\n",
    "    img = image.load_img(img_path, target_size=(224, 224))\n",
    "    x = image.img_to_array(img)\n",
    "    return np.expand_dims(x, axis=0)\n",
    "\n",
    "def paths_to_tensor(img_paths):\n",
    "    list_of_tensors = [path_to_tensor(img_path) for img_path in tqdm(img_paths)]\n",
    "    return np.vstack(list_of_tensors) \n",
    "\n",
    "### Convert to RGB tensors\n",
    "\n",
    "train_tensors = paths_to_tensor(train_files).astype('float32')/255\n",
    "valid_tensors = paths_to_tensor(valid_files).astype('float32')/255\n",
    "test_tensors = paths_to_tensor(test_files).astype('float32')/255\n",
    "\n",
    "print(\"Data are preprocessed!\")"
   ]
  },
  {
   "cell_type": "markdown",
   "metadata": {
    "deletable": true,
    "editable": true
   },
   "source": [
    "# Arbitrary network architecture\n",
    "\n",
    "## Initial model: Standard CNN with sigmoid"
   ]
  },
  {
   "cell_type": "code",
   "execution_count": 3,
   "metadata": {
    "collapsed": false,
    "deletable": true,
    "editable": true
   },
   "outputs": [
    {
     "name": "stdout",
     "output_type": "stream",
     "text": [
      "_________________________________________________________________\n",
      "Layer (type)                 Output Shape              Param #   \n",
      "=================================================================\n",
      "conv2d_1 (Conv2D)            (None, 224, 224, 16)      208       \n",
      "_________________________________________________________________\n",
      "max_pooling2d_1 (MaxPooling2 (None, 112, 112, 16)      0         \n",
      "_________________________________________________________________\n",
      "max_pooling2d_2 (MaxPooling2 (None, 56, 56, 16)        0         \n",
      "_________________________________________________________________\n",
      "flatten_1 (Flatten)          (None, 50176)             0         \n",
      "_________________________________________________________________\n",
      "dense_1 (Dense)              (None, 2)                 100354    \n",
      "=================================================================\n",
      "Total params: 100,562.0\n",
      "Trainable params: 100,562.0\n",
      "Non-trainable params: 0.0\n",
      "_________________________________________________________________\n"
     ]
    }
   ],
   "source": [
    "from keras.layers import Conv2D, MaxPooling2D, GlobalAveragePooling2D\n",
    "from keras.layers import Dropout, Flatten, Dense, Activation\n",
    "from keras.models import Sequential\n",
    "\n",
    "# Initial Architecture for CNN\n",
    "\n",
    "model = Sequential()\n",
    "\n",
    "model.add(Conv2D(filters=16, kernel_size = 2, padding='same', activation='relu', input_shape=(224, 224, 3)))\n",
    "model.add(MaxPooling2D(pool_size=2))\n",
    "model.add(MaxPooling2D(pool_size=2))\n",
    "model.add(Flatten())\n",
    "model.add(Dense(2, activation='sigmoid'))\n",
    "\n",
    "model.summary()"
   ]
  },
  {
   "cell_type": "markdown",
   "metadata": {
    "deletable": true,
    "editable": true
   },
   "source": [
    "## Compile the initial model"
   ]
  },
  {
   "cell_type": "code",
   "execution_count": 5,
   "metadata": {
    "collapsed": false,
    "deletable": true,
    "editable": true
   },
   "outputs": [],
   "source": [
    "# Initial compilation conditions\n",
    "model.compile(loss='binary_crossentropy', optimizer='rmsprop', metrics=['accuracy'])"
   ]
  },
  {
   "cell_type": "markdown",
   "metadata": {
    "deletable": true,
    "editable": true
   },
   "source": [
    "## Train the initial model"
   ]
  },
  {
   "cell_type": "markdown",
   "metadata": {
    "deletable": true,
    "editable": true
   },
   "source": [
    "#### Helper functions to plot training statistics"
   ]
  },
  {
   "cell_type": "code",
   "execution_count": 9,
   "metadata": {
    "collapsed": true,
    "deletable": true,
    "editable": true
   },
   "outputs": [],
   "source": [
    "# helpers for training CNNs\n",
    "import keras\n",
    "import timeit\n",
    "import matplotlib.pyplot as plt\n",
    "\n",
    "# graph the history of model.fit\n",
    "def show_history_graph(history):\n",
    "    # summarize history for accuracy\n",
    "    plt.plot(history.history['acc'])\n",
    "    plt.plot(history.history['val_acc'])\n",
    "    plt.title('model accuracy')\n",
    "    plt.ylabel('accuracy')\n",
    "    plt.xlabel('epoch')\n",
    "    plt.legend(['train', 'test'], loc='upper left')\n",
    "    plt.show()\n",
    "    # summarize history for loss\n",
    "    plt.plot(history.history['loss'])\n",
    "    plt.plot(history.history['val_loss'])\n",
    "    plt.title('model loss')\n",
    "    plt.ylabel('loss')\n",
    "    plt.xlabel('epoch')\n",
    "    plt.legend(['train', 'test'], loc='upper left')\n",
    "    plt.show() \n",
    "\n",
    "# callback to show the total time taken during training and for each epoch\n",
    "class EpochTimer(keras.callbacks.Callback):\n",
    "    train_start = 0\n",
    "    train_end = 0\n",
    "    epoch_start = 0\n",
    "    epoch_end = 0\n",
    "    \n",
    "    def get_time(self):\n",
    "        return timeit.default_timer()\n",
    "\n",
    "    def on_train_begin(self, logs={}):\n",
    "        self.train_start = self.get_time()\n",
    " \n",
    "    def on_train_end(self, logs={}):\n",
    "        self.train_end = self.get_time()\n",
    "        print('Training took {} seconds'.format(self.train_end - self.train_start))\n",
    " \n",
    "    def on_epoch_begin(self, epoch, logs={}):\n",
    "        self.epoch_start = self.get_time()\n",
    " \n",
    "    def on_epoch_end(self, epoch, logs={}):\n",
    "        self.epoch_end = self.get_time()\n",
    "        print('Epoch {} took {} seconds'.format(epoch, self.epoch_end - self.epoch_start))"
   ]
  },
  {
   "cell_type": "markdown",
   "metadata": {
    "deletable": true,
    "editable": true
   },
   "source": [
    "#### Train the model"
   ]
  },
  {
   "cell_type": "code",
   "execution_count": 20,
   "metadata": {
    "collapsed": false,
    "deletable": true,
    "editable": true
   },
   "outputs": [
    {
     "name": "stdout",
     "output_type": "stream",
     "text": [
      "Epoch 00000: val_loss improved from inf to 0.78989, saving model to saved_models/weights.best.benchmark.hdf5\n",
      "Epoch 0 took 566.087844871015 seconds\n",
      "Epoch 00001: val_loss improved from 0.78989 to 0.59863, saving model to saved_models/weights.best.benchmark.hdf5\n",
      "Epoch 1 took 589.0668590255127 seconds\n",
      "Epoch 00002: val_loss did not improve\n",
      "Epoch 2 took 424.5034909410019 seconds\n",
      "Epoch 00003: val_loss did not improve\n",
      "Epoch 3 took 280.3115939611812 seconds\n",
      "Epoch 00004: val_loss did not improve\n",
      "Epoch 4 took 271.09444528549784 seconds\n",
      "Epoch 00005: val_loss did not improve\n",
      "Epoch 5 took 272.76792704904074 seconds\n",
      "Epoch 00006: val_loss did not improve\n",
      "Epoch 6 took 272.23509475533456 seconds\n",
      "Epoch 00007: val_loss did not improve\n",
      "Epoch 7 took 274.83433960359844 seconds\n",
      "Epoch 00008: val_loss did not improve\n",
      "Epoch 8 took 274.131405724921 seconds\n",
      "Epoch 00009: val_loss did not improve\n",
      "Epoch 9 took 417.8613870193276 seconds\n",
      "Training took 3642.9489522045146 seconds\n"
     ]
    }
   ],
   "source": [
    "from keras.callbacks import ModelCheckpoint  \n",
    "\n",
    "epochs = 10\n",
    "batch_size = 25\n",
    "epochtimer = EpochTimer()\n",
    "\n",
    "checkpointer = ModelCheckpoint(filepath='saved_models/weights.best.benchmark.hdf5',\n",
    "                               verbose=1, save_best_only=True)\n",
    "\n",
    "hist = model.fit(train_tensors, train_targets, \n",
    "                         validation_data=(valid_tensors, valid_targets),\n",
    "                         epochs=epochs, batch_size=batch_size, verbose=0,\n",
    "                         callbacks=[checkpointer, epochtimer])"
   ]
  },
  {
   "cell_type": "markdown",
   "metadata": {
    "deletable": true,
    "editable": true
   },
   "source": [
    "#### Plot results"
   ]
  },
  {
   "cell_type": "code",
   "execution_count": 21,
   "metadata": {
    "collapsed": false,
    "deletable": true,
    "editable": true
   },
   "outputs": [
    {
     "data": {
      "image/png": "[encoded data removed]",
      "text/plain": [
       "<matplotlib.figure.Figure at 0x1cc60e087b8>"
      ]
     },
     "metadata": {},
     "output_type": "display_data"
    },
    {
     "data": {
      "image/png": "[encoded data removed]",
      "text/plain": [
       "<matplotlib.figure.Figure at 0x1cc58efacc0>"
      ]
     },
     "metadata": {},
     "output_type": "display_data"
    }
   ],
   "source": [
    "show_history_graph(hist)"
   ]
  },
  {
   "cell_type": "markdown",
   "metadata": {
    "deletable": true,
    "editable": true
   },
   "source": [
    "## Test the initial model"
   ]
  },
  {
   "cell_type": "code",
   "execution_count": 22,
   "metadata": {
    "collapsed": false,
    "deletable": true,
    "editable": true
   },
   "outputs": [
    {
     "name": "stdout",
     "output_type": "stream",
     "text": [
      "Test accuracy: 74.6714%\n",
      "Test Precision: 77.8626%\n",
      "Recall: 70.9977%\n",
      "F3-score:  0.7162921348314607\n"
     ]
    }
   ],
   "source": [
    "# Load optimal weights from the training\n",
    "model.load_weights('saved_models/weights.best.benchmark.hdf5')\n",
    "\n",
    "# get index of prediction for each image in test set\n",
    "predictions = [np.argmax(model.predict(np.expand_dims(tensor, axis=0))) for tensor in test_tensors]\n",
    "\n",
    "# report on metrics\n",
    "\n",
    "TP = 0  # true positives\n",
    "TN = 0  # true negatives\n",
    "FP = 0  # false positives\n",
    "FN = 0  # false negatives\n",
    "\n",
    "k = 0\n",
    "for i in predictions:\n",
    "    if i == 1 and np.argmax(test_targets, axis=1)[k] == 1:\n",
    "        TP = TP + 1\n",
    "    if i == 0 and np.argmax(test_targets, axis=1)[k] == 0:\n",
    "        TN = TN + 1\n",
    "    if i == 1 and np.argmax(test_targets, axis=1)[k] == 0:\n",
    "        FP = FP + 1\n",
    "    if i == 0 and np.argmax(test_targets, axis=1)[k] == 1:\n",
    "        FN = FN + 1\n",
    "        \n",
    "    k = k + 1\n",
    "    \n",
    "### Accuracy\n",
    "accuracy = 100 * (TP + TN) / len(predictions)\n",
    "\n",
    "### Precision\n",
    "precision = 100 * TP / (TP + FP)\n",
    "\n",
    "### Recall\n",
    "recall = 100 * TP / (TP + FN)\n",
    "\n",
    "### F3-score\n",
    "# Divide by 100 to scale the score back to [0, 1]\n",
    "b = 3\n",
    "fbscore = (1 / 100) * (1 + b*b) * precision * recall / (b * b * precision + recall)\n",
    "\n",
    "### Print results\n",
    "print(\"Test accuracy: %.4f%%\" % accuracy)\n",
    "print(\"Test Precision: %.4f%%\" % precision)\n",
    "print(\"Recall: %.4f%%\" % recall)\n",
    "print(\"F3-score: \",  fbscore)"
   ]
  },
  {
   "cell_type": "markdown",
   "metadata": {
    "deletable": true,
    "editable": true
   },
   "source": [
    "### Discussion\n",
    "\n",
    "As we can see, **the initial model performs better than random (benchmark)**. It doesn't perform too well (only achieves 70% recall), and this is due to poor choices of network structure and architecture. However, this serves as a great motivation for us to start refining our architecture and parameters. We now start the refinement process and we eventually derive the final model architecture for both CNN and CNN-SVMC models. See the other code files for their implementation."
   ]
  }
 ],
 "metadata": {
  "anaconda-cloud": {},
  "kernelspec": {
   "display_name": "Python 3",
   "language": "python",
   "name": "python3"
  },
  "language_info": {
   "codemirror_mode": {
    "name": "ipython",
    "version": 3
   },
   "file_extension": ".py",
   "mimetype": "text/x-python",
   "name": "python",
   "nbconvert_exporter": "python",
   "pygments_lexer": "ipython3",
   "version": "3.5.3"
  }
 },
 "nbformat": 4,
 "nbformat_minor": 2
}
