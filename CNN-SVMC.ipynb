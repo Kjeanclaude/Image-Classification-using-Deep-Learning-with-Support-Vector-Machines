{
 "cells": [
  {
   "cell_type": "markdown",
   "metadata": {
    "deletable": true,
    "editable": true
   },
   "source": [
    "# Image Classification using Deep Learning with SVM\n",
    "\n",
    "### Udacity Machine Learning Engineer Nanodegree - Capstone Porject\n",
    "### Student: Pavlos Sakoglou\n",
    "\n",
    "### Final CNN-SVMC Model Training and Testing\n",
    "\n",
    "========================================================================================="
   ]
  },
  {
   "cell_type": "markdown",
   "metadata": {
    "deletable": true,
    "editable": true
   },
   "source": [
    "As mentioned in the report file, after refining the model and adjusting the architecture, expect this model to do better than the initial one. This model is a regular CNN that uses a Support Vector Machine classifier at the penultimate layer instead of the sigmoid activation. Our goal is to compare this model with the final CNN model that uses the sigmoid. Below find the training process and results."
   ]
  },
  {
   "cell_type": "markdown",
   "metadata": {
    "deletable": true,
    "editable": true
   },
   "source": [
    "## 1. Import data and print data statistics"
   ]
  },
  {
   "cell_type": "code",
   "execution_count": 1,
   "metadata": {
    "collapsed": false,
    "deletable": true,
    "editable": true
   },
   "outputs": [
    {
     "name": "stderr",
     "output_type": "stream",
     "text": [
      "Using TensorFlow backend.\n"
     ]
    },
    {
     "name": "stdout",
     "output_type": "stream",
     "text": [
      "There are 2 total classes:\n",
      "nude safe \n",
      "\n",
      "There are 13606 total images\n",
      "\n",
      "There are 12302 training images\n",
      "There are 467 validation images\n",
      "There are 837 test images\n"
     ]
    }
   ],
   "source": [
    "from sklearn.datasets import load_files      \n",
    "from keras.utils import np_utils\n",
    "from glob import glob\n",
    "import numpy as np\n",
    "import os\n",
    "\n",
    "# define function to load train, test, and validation datasets\n",
    "def load_dataset(path):\n",
    "    data = load_files(path)\n",
    "    files = np.array(data['filenames'])\n",
    "    file_classes = np_utils.to_categorical(np.array(data['target']))\n",
    "    return files, file_classes\n",
    "\n",
    "# load train, test, and validation datasets\n",
    "train_files, train_targets = load_dataset('data/train')\n",
    "valid_files, valid_targets = load_dataset('data/valid')\n",
    "test_files, test_targets = load_dataset('data/test')\n",
    "\n",
    "# load list of class names\n",
    "class_names = os.listdir(\"data/train\")\n",
    "\n",
    "# print statistics about the dataset\n",
    "print('There are %d total classes:' % len(class_names))\n",
    "print(class_names[0], class_names[1], \"\\n\")\n",
    "print('There are %s total images\\n' % len(np.hstack([train_files, valid_files, test_files])))\n",
    "print('There are %d training images' % len(train_files))\n",
    "print('There are %d validation images' % len(valid_files))\n",
    "print('There are %d test images'% len(test_files))"
   ]
  },
  {
   "cell_type": "markdown",
   "metadata": {
    "deletable": true,
    "editable": true
   },
   "source": [
    "## Convert the data into 244x244 dimensions of RGB values"
   ]
  },
  {
   "cell_type": "code",
   "execution_count": 2,
   "metadata": {
    "collapsed": false,
    "deletable": true,
    "editable": true
   },
   "outputs": [
    {
     "name": "stderr",
     "output_type": "stream",
     "text": [
      "100%|███████████████████████████████████| 12302/12302 [01:12<00:00, 169.34it/s]\n",
      "100%|████████████████████████████████████████| 467/467 [00:08<00:00, 58.10it/s]\n",
      "100%|████████████████████████████████████████| 837/837 [00:36<00:00, 22.67it/s]\n"
     ]
    },
    {
     "name": "stdout",
     "output_type": "stream",
     "text": [
      "Data are preprocessed!\n"
     ]
    }
   ],
   "source": [
    "from keras.preprocessing import image                  \n",
    "from tqdm import tqdm\n",
    "from PIL import ImageFile                            \n",
    "ImageFile.LOAD_TRUNCATED_IMAGES = True \n",
    "\n",
    "### Helper functions\n",
    "\n",
    "def path_to_tensor(img_path):\n",
    "    img = image.load_img(img_path, target_size=(224, 224))\n",
    "    x = image.img_to_array(img)\n",
    "    return np.expand_dims(x, axis=0)\n",
    "\n",
    "def paths_to_tensor(img_paths):\n",
    "    list_of_tensors = [path_to_tensor(img_path) for img_path in tqdm(img_paths)]\n",
    "    return np.vstack(list_of_tensors) \n",
    "\n",
    "### Convert to RGB tensors\n",
    "\n",
    "train_tensors = paths_to_tensor(train_files).astype('float32')/255\n",
    "valid_tensors = paths_to_tensor(valid_files).astype('float32')/255\n",
    "test_tensors = paths_to_tensor(test_files).astype('float32')/255\n",
    "\n",
    "print(\"Data are preprocessed!\")"
   ]
  },
  {
   "cell_type": "markdown",
   "metadata": {
    "deletable": true,
    "editable": true
   },
   "source": [
    "# Refined network architecture\n",
    "\n",
    "## Final CNN-SVMC model"
   ]
  },
  {
   "cell_type": "code",
   "execution_count": 3,
   "metadata": {
    "collapsed": false,
    "deletable": true,
    "editable": true
   },
   "outputs": [
    {
     "name": "stdout",
     "output_type": "stream",
     "text": [
      "_________________________________________________________________\n",
      "Layer (type)                 Output Shape              Param #   \n",
      "=================================================================\n",
      "conv2d_1 (Conv2D)            (None, 222, 222, 32)      896       \n",
      "_________________________________________________________________\n",
      "activation_1 (Activation)    (None, 222, 222, 32)      0         \n",
      "_________________________________________________________________\n",
      "max_pooling2d_1 (MaxPooling2 (None, 111, 111, 32)      0         \n",
      "_________________________________________________________________\n",
      "conv2d_2 (Conv2D)            (None, 109, 109, 32)      9248      \n",
      "_________________________________________________________________\n",
      "activation_2 (Activation)    (None, 109, 109, 32)      0         \n",
      "_________________________________________________________________\n",
      "max_pooling2d_2 (MaxPooling2 (None, 54, 54, 32)        0         \n",
      "_________________________________________________________________\n",
      "conv2d_3 (Conv2D)            (None, 52, 52, 64)        18496     \n",
      "_________________________________________________________________\n",
      "activation_3 (Activation)    (None, 52, 52, 64)        0         \n",
      "_________________________________________________________________\n",
      "max_pooling2d_3 (MaxPooling2 (None, 26, 26, 64)        0         \n",
      "_________________________________________________________________\n",
      "flatten_1 (Flatten)          (None, 43264)             0         \n",
      "_________________________________________________________________\n",
      "dense_1 (Dense)              (None, 64)                2768960   \n",
      "_________________________________________________________________\n",
      "dropout_1 (Dropout)          (None, 64)                0         \n",
      "_________________________________________________________________\n",
      "dense_2 (Dense)              (None, 2)                 130       \n",
      "=================================================================\n",
      "Total params: 2,797,730.0\n",
      "Trainable params: 2,797,730.0\n",
      "Non-trainable params: 0.0\n",
      "_________________________________________________________________\n"
     ]
    }
   ],
   "source": [
    "from keras.layers import Conv2D, MaxPooling2D, GlobalAveragePooling2D\n",
    "from keras.layers import Dropout, Flatten, Dense, Activation\n",
    "from keras.models import Sequential\n",
    "from keras import regularizers\n",
    "\n",
    "# CNN-SVMC model\n",
    "\n",
    "model = Sequential()\n",
    "\n",
    "model.add(Conv2D(32, (3, 3), input_shape=(224, 224, 3)))\n",
    "model.add(Activation('relu'))\n",
    "model.add(MaxPooling2D(pool_size=(2, 2)))\n",
    "\n",
    "model.add(Conv2D(32, (3, 3)))\n",
    "model.add(Activation('relu'))\n",
    "model.add(MaxPooling2D(pool_size=(2, 2)))\n",
    "\n",
    "model.add(Conv2D(64, (3, 3)))\n",
    "model.add(Activation('relu'))\n",
    "model.add(MaxPooling2D(pool_size=(2, 2)))\n",
    "\n",
    "model.add(Flatten())\n",
    "model.add(Dense(64, activation=\"relu\"))\n",
    "model.add(Dropout(0.3))\n",
    "model.add(Dense(2, activation=\"linear\", kernel_regularizer=regularizers.l2(0.01), bias_regularizer=regularizers.l2(0.01)))\n",
    "\n",
    "model.summary()"
   ]
  },
  {
   "cell_type": "markdown",
   "metadata": {
    "deletable": true,
    "editable": true
   },
   "source": [
    "## Compile the final CNN-SVMC model"
   ]
  },
  {
   "cell_type": "code",
   "execution_count": 4,
   "metadata": {
    "collapsed": false,
    "deletable": true,
    "editable": true
   },
   "outputs": [],
   "source": [
    "# CNN-SVMC\n",
    "model.compile(loss='hinge', optimizer='rmsprop', metrics=['accuracy'])"
   ]
  },
  {
   "cell_type": "markdown",
   "metadata": {
    "deletable": true,
    "editable": true
   },
   "source": [
    "## Train the CNN-SVMC model"
   ]
  },
  {
   "cell_type": "markdown",
   "metadata": {
    "deletable": true,
    "editable": true
   },
   "source": [
    "#### Helper functions to plot training statistics"
   ]
  },
  {
   "cell_type": "code",
   "execution_count": 5,
   "metadata": {
    "collapsed": true,
    "deletable": true,
    "editable": true
   },
   "outputs": [],
   "source": [
    "# helpers for training CNNs\n",
    "import keras\n",
    "import timeit\n",
    "import matplotlib.pyplot as plt\n",
    "\n",
    "# graph the history of model.fit\n",
    "def show_history_graph(history):\n",
    "    # summarize history for accuracy\n",
    "    plt.plot(history.history['acc'])\n",
    "    plt.plot(history.history['val_acc'])\n",
    "    plt.title('model accuracy')\n",
    "    plt.ylabel('accuracy')\n",
    "    plt.xlabel('epoch')\n",
    "    plt.legend(['train', 'test'], loc='upper left')\n",
    "    plt.show()\n",
    "    # summarize history for loss\n",
    "    plt.plot(history.history['loss'])\n",
    "    plt.plot(history.history['val_loss'])\n",
    "    plt.title('model loss')\n",
    "    plt.ylabel('loss')\n",
    "    plt.xlabel('epoch')\n",
    "    plt.legend(['train', 'test'], loc='upper left')\n",
    "    plt.show() \n",
    "\n",
    "# callback to show the total time taken during training and for each epoch\n",
    "class EpochTimer(keras.callbacks.Callback):\n",
    "    train_start = 0\n",
    "    train_end = 0\n",
    "    epoch_start = 0\n",
    "    epoch_end = 0\n",
    "    \n",
    "    def get_time(self):\n",
    "        return timeit.default_timer()\n",
    "\n",
    "    def on_train_begin(self, logs={}):\n",
    "        self.train_start = self.get_time()\n",
    " \n",
    "    def on_train_end(self, logs={}):\n",
    "        self.train_end = self.get_time()\n",
    "        print('Training took {} seconds'.format(self.train_end - self.train_start))\n",
    " \n",
    "    def on_epoch_begin(self, epoch, logs={}):\n",
    "        self.epoch_start = self.get_time()\n",
    " \n",
    "    def on_epoch_end(self, epoch, logs={}):\n",
    "        self.epoch_end = self.get_time()\n",
    "        print('Epoch {} took {} seconds'.format(epoch, self.epoch_end - self.epoch_start))"
   ]
  },
  {
   "cell_type": "markdown",
   "metadata": {
    "deletable": true,
    "editable": true
   },
   "source": [
    "#### Train the model"
   ]
  },
  {
   "cell_type": "code",
   "execution_count": 6,
   "metadata": {
    "collapsed": false,
    "deletable": true,
    "editable": true
   },
   "outputs": [
    {
     "name": "stdout",
     "output_type": "stream",
     "text": [
      "Epoch 00000: val_loss improved from inf to 0.50000, saving model to saved_models/weights.best.finalCNNSVMC.hdf5\n",
      "Epoch 0 took 1540.4891033717108 seconds\n",
      "Epoch 00001: val_loss did not improve\n",
      "Epoch 1 took 1246.09442604106 seconds\n",
      "Epoch 00002: val_loss did not improve\n",
      "Epoch 2 took 1233.881510286366 seconds\n",
      "Epoch 00003: val_loss did not improve\n",
      "Epoch 3 took 1226.6034512546944 seconds\n",
      "Epoch 00004: val_loss did not improve\n",
      "Epoch 4 took 1226.3455082199416 seconds\n",
      "Epoch 00005: val_loss improved from 0.50000 to 0.50000, saving model to saved_models/weights.best.finalCNNSVMC.hdf5\n",
      "Epoch 5 took 1235.6682143471126 seconds\n",
      "Epoch 00006: val_loss did not improve\n",
      "Epoch 6 took 1231.1793573042041 seconds\n",
      "Epoch 00007: val_loss improved from 0.50000 to 0.50000, saving model to saved_models/weights.best.finalCNNSVMC.hdf5\n",
      "Epoch 7 took 1266.1607620455216 seconds\n",
      "Epoch 00008: val_loss did not improve\n",
      "Epoch 8 took 1242.1475257212605 seconds\n",
      "Epoch 00009: val_loss did not improve\n",
      "Epoch 9 took 1233.498918462601 seconds\n",
      "Epoch 00010: val_loss did not improve\n",
      "Epoch 10 took 1233.282415544716 seconds\n",
      "Epoch 00011: val_loss did not improve\n",
      "Epoch 11 took 1230.1645399424724 seconds\n",
      "Epoch 00012: val_loss improved from 0.50000 to 0.50000, saving model to saved_models/weights.best.finalCNNSVMC.hdf5\n",
      "Epoch 12 took 1221.1778720612674 seconds\n",
      "Epoch 00013: val_loss did not improve\n",
      "Epoch 13 took 1217.5983253917948 seconds\n",
      "Epoch 00014: val_loss did not improve\n",
      "Epoch 14 took 1221.3243705572095 seconds\n",
      "Epoch 00015: val_loss did not improve\n",
      "Epoch 15 took 1230.8012896339205 seconds\n",
      "Epoch 00016: val_loss did not improve\n",
      "Epoch 16 took 1225.6228145802706 seconds\n",
      "Epoch 00017: val_loss did not improve\n",
      "Epoch 17 took 1225.9229824772992 seconds\n",
      "Epoch 00018: val_loss did not improve\n",
      "Epoch 18 took 1343.7741293174913 seconds\n",
      "Epoch 00019: val_loss did not improve\n",
      "Epoch 19 took 1230.0306559616256 seconds\n",
      "Training took 25061.846750127654 seconds\n"
     ]
    }
   ],
   "source": [
    "from keras.callbacks import ModelCheckpoint  \n",
    "\n",
    "epochs = 20\n",
    "batch_size = 16\n",
    "epochtimer = EpochTimer()\n",
    "\n",
    "checkpointer = ModelCheckpoint(filepath='saved_models/weights.best.finalCNNSVMC.hdf5',\n",
    "                               verbose=1, save_best_only=True)\n",
    "\n",
    "hist = model.fit(train_tensors, train_targets, \n",
    "                         validation_data=(valid_tensors, valid_targets),\n",
    "                         epochs=epochs, batch_size=batch_size, verbose=0,\n",
    "                         callbacks=[checkpointer, epochtimer])"
   ]
  },
  {
   "cell_type": "markdown",
   "metadata": {
    "deletable": true,
    "editable": true
   },
   "source": [
    "#### Plot results"
   ]
  },
  {
   "cell_type": "code",
   "execution_count": 7,
   "metadata": {
    "collapsed": false,
    "deletable": true,
    "editable": true
   },
   "outputs": [
    {
     "data": {
      "image/png": "[encoded data removed]",
      "text/plain": [
       "<matplotlib.figure.Figure at 0x25d98dbf860>"
      ]
     },
     "metadata": {},
     "output_type": "display_data"
    },
    {
     "data": {
      "image/png": "[encoded data removed]",
      "text/plain": [
       "<matplotlib.figure.Figure at 0x25d9d3595c0>"
      ]
     },
     "metadata": {},
     "output_type": "display_data"
    }
   ],
   "source": [
    "show_history_graph(hist)"
   ]
  },
  {
   "cell_type": "markdown",
   "metadata": {
    "deletable": true,
    "editable": true
   },
   "source": [
    "## Test the final CNN-SVMC model"
   ]
  },
  {
   "cell_type": "code",
   "execution_count": 8,
   "metadata": {
    "collapsed": false,
    "deletable": true,
    "editable": true
   },
   "outputs": [
    {
     "name": "stdout",
     "output_type": "stream",
     "text": [
      "Test accuracy: 51.4934%\n",
      "Test Precision: 51.4934%\n",
      "Recall: 100.0000%\n",
      "F3-score:  0.9139100932994063\n"
     ]
    }
   ],
   "source": [
    "# Load optimal weights from the training\n",
    "model.load_weights('saved_models/weights.best.finalCNNSVMC.hdf5')\n",
    "\n",
    "# get index of prediction for each image in test set\n",
    "predictions = [np.argmax(model.predict(np.expand_dims(tensor, axis=0))) for tensor in test_tensors]\n",
    "\n",
    "# report on metrics\n",
    "\n",
    "TP = 0  # true positives\n",
    "TN = 0  # true negatives\n",
    "FP = 0  # false positives\n",
    "FN = 0  # false negatives\n",
    "\n",
    "k = 0\n",
    "for i in predictions:\n",
    "    if i == 1 and np.argmax(test_targets, axis=1)[k] == 1:\n",
    "        TP = TP + 1\n",
    "    if i == 0 and np.argmax(test_targets, axis=1)[k] == 0:\n",
    "        TN = TN + 1\n",
    "    if i == 1 and np.argmax(test_targets, axis=1)[k] == 0:\n",
    "        FP = FP + 1\n",
    "    if i == 0 and np.argmax(test_targets, axis=1)[k] == 1:\n",
    "        FN = FN + 1\n",
    "        \n",
    "    k = k + 1\n",
    "    \n",
    "### Accuracy\n",
    "accuracy = 100 * (TP + TN) / len(predictions)\n",
    "\n",
    "### Precision\n",
    "precision = 100 * TP / (TP + FP)\n",
    "\n",
    "### Recall\n",
    "recall = 100 * TP / (TP + FN)\n",
    "\n",
    "### F3-score\n",
    "# Divide by 100 to scale the score back to [0, 1]\n",
    "b = 3\n",
    "fbscore = (1 / 100) * (1 + b*b) * precision * recall / (b * b * precision + recall)\n",
    "\n",
    "### Print results\n",
    "print(\"Test accuracy: %.4f%%\" % accuracy)\n",
    "print(\"Test Precision: %.4f%%\" % precision)\n",
    "print(\"Recall: %.4f%%\" % recall)\n",
    "print(\"F3-score: \",  fbscore)"
   ]
  },
  {
   "cell_type": "markdown",
   "metadata": {
    "deletable": true,
    "editable": true
   },
   "source": [
    "### Discussion\n",
    "\n",
    "Intrestingly enough, when we replace the penultimate layer with the SVM classifier, the accuracy and precision drop drastically, and in fact perform worse than the arbitrary initial architecture and perform almost randomly -- like the benchmark. However, the recall and consequently the F3-score are improved dramatically. Although we care about the true positive rate in this application more than accuracy, having a very low accuracy and very low precision is not ideal. For further analysis see the Results section of the report"
   ]
  }
 ],
 "metadata": {
  "anaconda-cloud": {},
  "kernelspec": {
   "display_name": "Python 3",
   "language": "python",
   "name": "python3"
  },
  "language_info": {
   "codemirror_mode": {
    "name": "ipython",
    "version": 3
   },
   "file_extension": ".py",
   "mimetype": "text/x-python",
   "name": "python",
   "nbconvert_exporter": "python",
   "pygments_lexer": "ipython3",
   "version": "3.5.3"
  }
 },
 "nbformat": 4,
 "nbformat_minor": 2
}
